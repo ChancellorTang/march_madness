{
 "cells": [
  {
   "cell_type": "code",
   "execution_count": 1,
   "metadata": {},
   "outputs": [],
   "source": [
    "import pandas as pd"
   ]
  },
  {
   "cell_type": "code",
   "execution_count": 2,
   "metadata": {},
   "outputs": [],
   "source": [
    "ncaam = pd.read_csv('data/cbb.csv')"
   ]
  },
  {
   "cell_type": "code",
   "execution_count": 3,
   "metadata": {},
   "outputs": [],
   "source": [
    "ncaam21 = pd.read_csv('data/cbb21.csv')"
   ]
  },
  {
   "cell_type": "code",
   "execution_count": 4,
   "metadata": {
    "scrolled": true
   },
   "outputs": [],
   "source": [
    "ncaam22 = pd.read_csv('data/cbb22.csv')"
   ]
  },
  {
   "cell_type": "code",
   "execution_count": 5,
   "metadata": {},
   "outputs": [],
   "source": [
    "def power_conf(df):\n",
    "    test_list = []\n",
    "    for x in df.CONF:\n",
    "        if x in [\"B10\", \"B12\", \"SEC\", \"P12\", \"BE\", \"ACC\"]:\n",
    "            test_list.append(1)\n",
    "        else:\n",
    "            test_list.append(0)\n",
    "    return test_list"
   ]
  },
  {
   "cell_type": "code",
   "execution_count": 6,
   "metadata": {},
   "outputs": [],
   "source": [
    "new_columns = ['TEAM',\n",
    " 'CONF',\n",
    " 'POSTSEASON',\n",
    " 'G',\n",
    " 'W',\n",
    " \"WIN_PER\",\n",
    " 'ADJOE',\n",
    " 'ADJDE',\n",
    " 'BARTHAG',\n",
    " 'EFG_O',\n",
    " 'EFG_D',\n",
    " 'TOR',\n",
    " 'TORD',\n",
    " 'ORB',\n",
    " 'DRB',\n",
    " 'FTR',\n",
    " 'FTRD',\n",
    " '2P_O',\n",
    " '2P_D',\n",
    " '3P_O',\n",
    " '3P_D',\n",
    " 'ADJ_T',\n",
    " 'WAB',\n",
    " 'SEED',\n",
    " \"POWER\",\n",
    " 'YEAR']"
   ]
  },
  {
   "cell_type": "code",
   "execution_count": 7,
   "metadata": {},
   "outputs": [],
   "source": [
    "ncaam = ncaam.fillna(0)\n",
    "ncaam.SEED = ncaam.SEED.astype(int) \n",
    "ncaam[\"WIN_PER\"] = ncaam[\"W\"]/ncaam[\"G\"]\n",
    "ncaam[\"POWER\"] = power_conf(ncaam)\n",
    "ncaam = ncaam.reindex(columns=new_columns)"
   ]
  },
  {
   "cell_type": "code",
   "execution_count": 8,
   "metadata": {},
   "outputs": [],
   "source": [
    "ncaam22 = ncaam22.fillna(0)\n",
    "#ncaam22.SEED = ncaam22.SEED.astype(int) \n",
    "ncaam22['YEAR']=2021\n",
    "ncaam22[\"POWER\"] = power_conf(ncaam22)\n",
    "ncaam22[\"WIN_PER\"] = ncaam22[\"W\"]/ncaam22[\"G\"]\n",
    "ncaam22 = ncaam22.reindex(columns=new_columns)"
   ]
  },
  {
   "cell_type": "code",
   "execution_count": 9,
   "metadata": {},
   "outputs": [],
   "source": [
    "ncaam21 = ncaam21.fillna(0)\n",
    "ncaam21.SEED = ncaam21.SEED.astype(int) \n",
    "ncaam21['YEAR']=2021\n",
    "ncaam21[\"POWER\"] = power_conf(ncaam21)\n",
    "ncaam21[\"WIN_PER\"] = ncaam21[\"W\"]/ncaam21[\"G\"]\n",
    "ncaam21 = ncaam21.reindex(columns=new_columns)"
   ]
  },
  {
   "cell_type": "code",
   "execution_count": 10,
   "metadata": {},
   "outputs": [],
   "source": [
    "#ncaam21 = ncaam[ncaam['YEAR']==2021]\n",
    "ncaam19 = ncaam[ncaam['YEAR']==2019]\n",
    "ncaam18 = ncaam[ncaam['YEAR']==2018]\n",
    "ncaam17 = ncaam[ncaam['YEAR']==2017]\n",
    "ncaam16 = ncaam[ncaam['YEAR']==2016]\n",
    "ncaam15 = ncaam[ncaam['YEAR']==2015]\n",
    "ncaam14 = ncaam[ncaam['YEAR']==2014]\n",
    "ncaam13 = ncaam[ncaam['YEAR']==2013]"
   ]
  },
  {
   "cell_type": "code",
   "execution_count": 25,
   "metadata": {},
   "outputs": [],
   "source": [
    "first_four13 = [\n",
    "    [\"North Carolina A&T\", \"Liberty\"],\n",
    "    [\"Saint Mary's\", \"Middle Tennessee\"],\n",
    "    [\"James Madison\", \"LIU Brooklyn\"],\n",
    "    [\"La Salle\", \"Boise St.\"]\n",
    "]"
   ]
  },
  {
   "cell_type": "code",
   "execution_count": 26,
   "metadata": {},
   "outputs": [],
   "source": [
    "first_four14 = [\n",
    "    [\"North Carolina St.\", \"Xavier\"],\n",
    "    [\"Albany\", \"Mount St. Mary's\"],\n",
    "    [\"Tennessee\", \"Iowa\"],\n",
    "    [\"Cal Poly\", \"Texas Southern\"]\n",
    "]"
   ]
  },
  {
   "cell_type": "code",
   "execution_count": 27,
   "metadata": {},
   "outputs": [],
   "source": [
    "first_four15 = [\n",
    "    [\"Mississippi\", \"BYU\"],\n",
    "    [\"Hampton\", \"Manhattan\"],\n",
    "    [\"Robert Morris\", \"North Florida\"],\n",
    "    [\"Dayton\", \"Boise St.\"]\n",
    "]"
   ]
  },
  {
   "cell_type": "code",
   "execution_count": 28,
   "metadata": {},
   "outputs": [],
   "source": [
    "first_four16 = [\n",
    "    [\"Wichita St.\", \"Vanderbilt\"],\n",
    "    [\"Florida Gulf Coast\", \"Fairleigh Dickinson\"],\n",
    "    [\"Michigan\", \"Tulsa\"],\n",
    "    [\"Holy Cross\", \"Southern\"]\n",
    "]"
   ]
  },
  {
   "cell_type": "code",
   "execution_count": 29,
   "metadata": {},
   "outputs": [],
   "source": [
    "first_four17 = [ \n",
    "    [\"Kansas St.\", \"Wake Forest\"],\n",
    "    [\"Mount St. Mary's\", \"New Orleans\"],\n",
    "    [\"USC\", \"Providence\"],\n",
    "    [\"UC Davis\", \"North Carolina Central\"],\n",
    "]"
   ]
  },
  {
   "cell_type": "code",
   "execution_count": 16,
   "metadata": {},
   "outputs": [],
   "source": [
    "first_four18 = [\n",
    "    [\"St. Bonaventure\", \"UCLA\"],\n",
    "    [\"Radford\", \"LIU Brooklyn\"],\n",
    "    [\"Texas Southern\", \"North Carolina Central\"],\n",
    "    [\"Syracuse\", \"Arizona St.\"]\n",
    "]"
   ]
  },
  {
   "cell_type": "code",
   "execution_count": 17,
   "metadata": {},
   "outputs": [],
   "source": [
    "first_four19 = [\n",
    "    [\"Fairleigh Dickinson\", \"Prairie View A&M\"],\n",
    "    [\"Belmont\", \"Temple\"],\n",
    "    [\"North Dakota St.\", \"North Carolina Central\"],\n",
    "    [\"Arizona St.\", \"St. John's\"]\n",
    "]"
   ]
  },
  {
   "cell_type": "code",
   "execution_count": 30,
   "metadata": {},
   "outputs": [],
   "source": [
    "first_four21 = [\n",
    "    [\"Norfolk St.\", \"Appalachian St.\"],\n",
    "    [\"Texas Southern\", \"Mount St. Mary's\"],\n",
    "    [\"Drake\", \"Wichita St.\"],\n",
    "    [\"UCLA\", \"Michigan St.\"]\n",
    "]"
   ]
  },
  {
   "cell_type": "code",
   "execution_count": 31,
   "metadata": {},
   "outputs": [],
   "source": [
    "first_four22 = [\n",
    "    [\"Bryant\", \"Wright St.\"],\n",
    "    [\"Rutgers\", \"Notre Dame\"],\n",
    "    [\"Texas Southern\", \"Texas A&M Corpus Chris\"],\n",
    "    [\"Wyoming\",\"Indiana\"]\n",
    "]"
   ]
  },
  {
   "cell_type": "code",
   "execution_count": 81,
   "metadata": {},
   "outputs": [],
   "source": [
    "matchups = []\n",
    "for z in [13,14,15,16,17,18,19,21,22]:\n",
    "    year = globals()[\"ncaam\" + '%s' % z]\n",
    "    for y in globals()[\"first_four\" + '%s' % z]:\n",
    "        df = pd.DataFrame()\n",
    "        for x in y:\n",
    "            df = df.append(year[year[\"TEAM\"] == x])\n",
    "        df[\"IN\"] = [1,0]\n",
    "        matchups.append(df)"
   ]
  },
  {
   "cell_type": "code",
   "execution_count": 82,
   "metadata": {},
   "outputs": [
    {
     "data": {
      "text/plain": [
       "36"
      ]
     },
     "execution_count": 82,
     "metadata": {},
     "output_type": "execute_result"
    }
   ],
   "source": [
    "len(matchups)"
   ]
  },
  {
   "cell_type": "code",
   "execution_count": 83,
   "metadata": {},
   "outputs": [],
   "source": [
    "def diff(df,u):\n",
    "    listDF = []\n",
    "    for y in range(0,u):\n",
    "        test_upsetH = df.iloc[y]\n",
    "        test_upsetL = df.iloc[-(y+1)]\n",
    "        listDF.append(lists(test_upsetH,test_upsetL))\n",
    "    return pd.DataFrame(listDF, columns = new_columns[3:-1]).sort_values(by = [\"SEED\"])"
   ]
  },
  {
   "cell_type": "code",
   "execution_count": 84,
   "metadata": {
    "scrolled": true
   },
   "outputs": [],
   "source": [
    "def lists(a,b):\n",
    "    listA = []\n",
    "    for x in range(3,25):\n",
    "        diff = a[x] - b[x]\n",
    "        listA.append(diff)\n",
    "    return listA"
   ]
  },
  {
   "cell_type": "code",
   "execution_count": 85,
   "metadata": {},
   "outputs": [],
   "source": [
    "df_diff = []\n",
    "df_y = []\n",
    "for x in matchups[0:32]:\n",
    "    df_diff.append(diff(x,1))\n",
    "    df_diff.append(diff(x.iloc[::-1],1))\n",
    "    df_y.append(1),\n",
    "    df_y.append(0)"
   ]
  },
  {
   "cell_type": "code",
   "execution_count": 96,
   "metadata": {},
   "outputs": [],
   "source": [
    "df_train = pd.concat(df_diff).reset_index(drop = True)"
   ]
  },
  {
   "cell_type": "code",
   "execution_count": 97,
   "metadata": {},
   "outputs": [],
   "source": [
    "import sklearn.tree as tree\n",
    "from sklearn.tree import DecisionTreeClassifier\n",
    "from sklearn.ensemble import RandomForestClassifier\n",
    "from sklearn.svm import LinearSVC\n",
    "from sklearn.neural_network import MLPClassifier\n",
    "from sklearn.svm import SVC\n",
    "from sklearn.naive_bayes import GaussianNB\n",
    "from sklearn.linear_model import LogisticRegression\n",
    "from sklearn.neighbors import KNeighborsClassifier"
   ]
  },
  {
   "cell_type": "code",
   "execution_count": 150,
   "metadata": {
    "scrolled": true
   },
   "outputs": [
    {
     "name": "stdout",
     "output_type": "stream",
     "text": [
      "Accuracy on training set: 1.000\n",
      "Accuracy on training set: 0.938\n",
      "Accuracy on training set: 0.922\n",
      "Accuracy on training set: 1.000\n",
      "Accuracy on training set: 0.844\n"
     ]
    }
   ],
   "source": [
    "mlp = MLPClassifier(max_iter= 1500, alpha=5, random_state = 69)\n",
    "mlp.fit(df_train, df_y)\n",
    "print(\"Accuracy on training set: {:.3f}\".format(mlp.score(df_train, df_y)))\n",
    "\n",
    "svc = SVC(random_state = 69, C = 1)\n",
    "svc.fit(df_train, df_y)\n",
    "print(\"Accuracy on training set: {:.3f}\".format(svc.score(df_train, df_y)))\n",
    "\n",
    "forest = RandomForestClassifier(n_estimators=4, max_depth = 6, random_state = 69)\n",
    "forest.fit(df_train, df_y)\n",
    "print(\"Accuracy on training set: {:.3f}\".format(forest.score(df_train, df_y)))\n",
    "\n",
    "clf =  LogisticRegression(random_state=69, C =1)\n",
    "clf.fit(df_train, df_y)\n",
    "print(\"Accuracy on training set: {:.3f}\".format(clf.score(df_train, df_y)))\n",
    "\n",
    "knn = KNeighborsClassifier(n_neighbors=5)\n",
    "knn.fit(df_train, df_y)\n",
    "print(\"Accuracy on training set: {:.3f}\".format(knn.score(df_train, df_y)))"
   ]
  },
  {
   "cell_type": "code",
   "execution_count": 141,
   "metadata": {},
   "outputs": [
    {
     "data": {
      "text/html": [
       "<div>\n",
       "<style scoped>\n",
       "    .dataframe tbody tr th:only-of-type {\n",
       "        vertical-align: middle;\n",
       "    }\n",
       "\n",
       "    .dataframe tbody tr th {\n",
       "        vertical-align: top;\n",
       "    }\n",
       "\n",
       "    .dataframe thead th {\n",
       "        text-align: right;\n",
       "    }\n",
       "</style>\n",
       "<table border=\"1\" class=\"dataframe\">\n",
       "  <thead>\n",
       "    <tr style=\"text-align: right;\">\n",
       "      <th></th>\n",
       "      <th>G</th>\n",
       "      <th>W</th>\n",
       "      <th>WIN_PER</th>\n",
       "      <th>ADJOE</th>\n",
       "      <th>ADJDE</th>\n",
       "      <th>BARTHAG</th>\n",
       "      <th>EFG_O</th>\n",
       "      <th>EFG_D</th>\n",
       "      <th>TOR</th>\n",
       "      <th>TORD</th>\n",
       "      <th>...</th>\n",
       "      <th>FTR</th>\n",
       "      <th>FTRD</th>\n",
       "      <th>2P_O</th>\n",
       "      <th>2P_D</th>\n",
       "      <th>3P_O</th>\n",
       "      <th>3P_D</th>\n",
       "      <th>ADJ_T</th>\n",
       "      <th>WAB</th>\n",
       "      <th>SEED</th>\n",
       "      <th>POWER</th>\n",
       "    </tr>\n",
       "  </thead>\n",
       "  <tbody>\n",
       "    <tr>\n",
       "      <th>0</th>\n",
       "      <td>3</td>\n",
       "      <td>7</td>\n",
       "      <td>0.164141</td>\n",
       "      <td>-9.5</td>\n",
       "      <td>-14.0</td>\n",
       "      <td>0.0868</td>\n",
       "      <td>-2.8</td>\n",
       "      <td>-2.6</td>\n",
       "      <td>2.9</td>\n",
       "      <td>8.3</td>\n",
       "      <td>...</td>\n",
       "      <td>4.2</td>\n",
       "      <td>2.6</td>\n",
       "      <td>0.5</td>\n",
       "      <td>-5.2</td>\n",
       "      <td>-6.3</td>\n",
       "      <td>1.1</td>\n",
       "      <td>1.2</td>\n",
       "      <td>4.1</td>\n",
       "      <td>0</td>\n",
       "      <td>0</td>\n",
       "    </tr>\n",
       "    <tr>\n",
       "      <th>1</th>\n",
       "      <td>-3</td>\n",
       "      <td>-7</td>\n",
       "      <td>-0.164141</td>\n",
       "      <td>9.5</td>\n",
       "      <td>14.0</td>\n",
       "      <td>-0.0868</td>\n",
       "      <td>2.8</td>\n",
       "      <td>2.6</td>\n",
       "      <td>-2.9</td>\n",
       "      <td>-8.3</td>\n",
       "      <td>...</td>\n",
       "      <td>-4.2</td>\n",
       "      <td>-2.6</td>\n",
       "      <td>-0.5</td>\n",
       "      <td>5.2</td>\n",
       "      <td>6.3</td>\n",
       "      <td>-1.1</td>\n",
       "      <td>-1.2</td>\n",
       "      <td>-4.1</td>\n",
       "      <td>0</td>\n",
       "      <td>0</td>\n",
       "    </tr>\n",
       "    <tr>\n",
       "      <th>2</th>\n",
       "      <td>0</td>\n",
       "      <td>-1</td>\n",
       "      <td>-0.029412</td>\n",
       "      <td>8.8</td>\n",
       "      <td>3.9</td>\n",
       "      <td>0.0514</td>\n",
       "      <td>2.6</td>\n",
       "      <td>2.7</td>\n",
       "      <td>-2.4</td>\n",
       "      <td>-5.7</td>\n",
       "      <td>...</td>\n",
       "      <td>-4.4</td>\n",
       "      <td>-5.9</td>\n",
       "      <td>3.1</td>\n",
       "      <td>0.1</td>\n",
       "      <td>-0.4</td>\n",
       "      <td>6.4</td>\n",
       "      <td>-0.1</td>\n",
       "      <td>1.8</td>\n",
       "      <td>0</td>\n",
       "      <td>0</td>\n",
       "    </tr>\n",
       "    <tr>\n",
       "      <th>3</th>\n",
       "      <td>0</td>\n",
       "      <td>1</td>\n",
       "      <td>0.029412</td>\n",
       "      <td>-8.8</td>\n",
       "      <td>-3.9</td>\n",
       "      <td>-0.0514</td>\n",
       "      <td>-2.6</td>\n",
       "      <td>-2.7</td>\n",
       "      <td>2.4</td>\n",
       "      <td>5.7</td>\n",
       "      <td>...</td>\n",
       "      <td>4.4</td>\n",
       "      <td>5.9</td>\n",
       "      <td>-3.1</td>\n",
       "      <td>-0.1</td>\n",
       "      <td>0.4</td>\n",
       "      <td>-6.4</td>\n",
       "      <td>0.1</td>\n",
       "      <td>-1.8</td>\n",
       "      <td>0</td>\n",
       "      <td>0</td>\n",
       "    </tr>\n",
       "    <tr>\n",
       "      <th>4</th>\n",
       "      <td>2</td>\n",
       "      <td>1</td>\n",
       "      <td>-0.004902</td>\n",
       "      <td>-9.6</td>\n",
       "      <td>-11.8</td>\n",
       "      <td>0.0541</td>\n",
       "      <td>-6.8</td>\n",
       "      <td>-3.9</td>\n",
       "      <td>-3.1</td>\n",
       "      <td>2.7</td>\n",
       "      <td>...</td>\n",
       "      <td>-8.8</td>\n",
       "      <td>7.6</td>\n",
       "      <td>-6.9</td>\n",
       "      <td>-4.2</td>\n",
       "      <td>-4.4</td>\n",
       "      <td>-2.5</td>\n",
       "      <td>-5.1</td>\n",
       "      <td>-0.3</td>\n",
       "      <td>0</td>\n",
       "      <td>0</td>\n",
       "    </tr>\n",
       "    <tr>\n",
       "      <th>...</th>\n",
       "      <td>...</td>\n",
       "      <td>...</td>\n",
       "      <td>...</td>\n",
       "      <td>...</td>\n",
       "      <td>...</td>\n",
       "      <td>...</td>\n",
       "      <td>...</td>\n",
       "      <td>...</td>\n",
       "      <td>...</td>\n",
       "      <td>...</td>\n",
       "      <td>...</td>\n",
       "      <td>...</td>\n",
       "      <td>...</td>\n",
       "      <td>...</td>\n",
       "      <td>...</td>\n",
       "      <td>...</td>\n",
       "      <td>...</td>\n",
       "      <td>...</td>\n",
       "      <td>...</td>\n",
       "      <td>...</td>\n",
       "      <td>...</td>\n",
       "    </tr>\n",
       "    <tr>\n",
       "      <th>59</th>\n",
       "      <td>-1</td>\n",
       "      <td>-4</td>\n",
       "      <td>-0.150198</td>\n",
       "      <td>-1.6</td>\n",
       "      <td>-2.9</td>\n",
       "      <td>0.0286</td>\n",
       "      <td>0.4</td>\n",
       "      <td>-1.0</td>\n",
       "      <td>-1.3</td>\n",
       "      <td>-2.9</td>\n",
       "      <td>...</td>\n",
       "      <td>-9.2</td>\n",
       "      <td>-9.2</td>\n",
       "      <td>-3.3</td>\n",
       "      <td>0.4</td>\n",
       "      <td>6.0</td>\n",
       "      <td>-2.3</td>\n",
       "      <td>-9.6</td>\n",
       "      <td>-2.7</td>\n",
       "      <td>0</td>\n",
       "      <td>0</td>\n",
       "    </tr>\n",
       "    <tr>\n",
       "      <th>60</th>\n",
       "      <td>8</td>\n",
       "      <td>9</td>\n",
       "      <td>0.083821</td>\n",
       "      <td>2.2</td>\n",
       "      <td>3.5</td>\n",
       "      <td>-0.0315</td>\n",
       "      <td>6.9</td>\n",
       "      <td>1.3</td>\n",
       "      <td>-0.7</td>\n",
       "      <td>0.7</td>\n",
       "      <td>...</td>\n",
       "      <td>-13.0</td>\n",
       "      <td>0.0</td>\n",
       "      <td>9.7</td>\n",
       "      <td>2.1</td>\n",
       "      <td>2.1</td>\n",
       "      <td>0.0</td>\n",
       "      <td>-0.8</td>\n",
       "      <td>0.2</td>\n",
       "      <td>0</td>\n",
       "      <td>0</td>\n",
       "    </tr>\n",
       "    <tr>\n",
       "      <th>61</th>\n",
       "      <td>-8</td>\n",
       "      <td>-9</td>\n",
       "      <td>-0.083821</td>\n",
       "      <td>-2.2</td>\n",
       "      <td>-3.5</td>\n",
       "      <td>0.0315</td>\n",
       "      <td>-6.9</td>\n",
       "      <td>-1.3</td>\n",
       "      <td>0.7</td>\n",
       "      <td>-0.7</td>\n",
       "      <td>...</td>\n",
       "      <td>13.0</td>\n",
       "      <td>0.0</td>\n",
       "      <td>-9.7</td>\n",
       "      <td>-2.1</td>\n",
       "      <td>-2.1</td>\n",
       "      <td>0.0</td>\n",
       "      <td>0.8</td>\n",
       "      <td>-0.2</td>\n",
       "      <td>0</td>\n",
       "      <td>0</td>\n",
       "    </tr>\n",
       "    <tr>\n",
       "      <th>62</th>\n",
       "      <td>-1</td>\n",
       "      <td>2</td>\n",
       "      <td>0.098291</td>\n",
       "      <td>6.5</td>\n",
       "      <td>4.0</td>\n",
       "      <td>0.0296</td>\n",
       "      <td>4.1</td>\n",
       "      <td>2.9</td>\n",
       "      <td>-2.3</td>\n",
       "      <td>2.2</td>\n",
       "      <td>...</td>\n",
       "      <td>1.2</td>\n",
       "      <td>-9.1</td>\n",
       "      <td>2.8</td>\n",
       "      <td>1.3</td>\n",
       "      <td>4.7</td>\n",
       "      <td>3.6</td>\n",
       "      <td>-4.0</td>\n",
       "      <td>-0.4</td>\n",
       "      <td>0</td>\n",
       "      <td>0</td>\n",
       "    </tr>\n",
       "    <tr>\n",
       "      <th>63</th>\n",
       "      <td>1</td>\n",
       "      <td>-2</td>\n",
       "      <td>-0.098291</td>\n",
       "      <td>-6.5</td>\n",
       "      <td>-4.0</td>\n",
       "      <td>-0.0296</td>\n",
       "      <td>-4.1</td>\n",
       "      <td>-2.9</td>\n",
       "      <td>2.3</td>\n",
       "      <td>-2.2</td>\n",
       "      <td>...</td>\n",
       "      <td>-1.2</td>\n",
       "      <td>9.1</td>\n",
       "      <td>-2.8</td>\n",
       "      <td>-1.3</td>\n",
       "      <td>-4.7</td>\n",
       "      <td>-3.6</td>\n",
       "      <td>4.0</td>\n",
       "      <td>0.4</td>\n",
       "      <td>0</td>\n",
       "      <td>0</td>\n",
       "    </tr>\n",
       "  </tbody>\n",
       "</table>\n",
       "<p>64 rows × 22 columns</p>\n",
       "</div>"
      ],
      "text/plain": [
       "    G  W   WIN_PER  ADJOE  ADJDE  BARTHAG  EFG_O  EFG_D  TOR  TORD  ...   FTR  \\\n",
       "0   3  7  0.164141   -9.5  -14.0   0.0868   -2.8   -2.6  2.9   8.3  ...   4.2   \n",
       "1  -3 -7 -0.164141    9.5   14.0  -0.0868    2.8    2.6 -2.9  -8.3  ...  -4.2   \n",
       "2   0 -1 -0.029412    8.8    3.9   0.0514    2.6    2.7 -2.4  -5.7  ...  -4.4   \n",
       "3   0  1  0.029412   -8.8   -3.9  -0.0514   -2.6   -2.7  2.4   5.7  ...   4.4   \n",
       "4   2  1 -0.004902   -9.6  -11.8   0.0541   -6.8   -3.9 -3.1   2.7  ...  -8.8   \n",
       ".. .. ..       ...    ...    ...      ...    ...    ...  ...   ...  ...   ...   \n",
       "59 -1 -4 -0.150198   -1.6   -2.9   0.0286    0.4   -1.0 -1.3  -2.9  ...  -9.2   \n",
       "60  8  9  0.083821    2.2    3.5  -0.0315    6.9    1.3 -0.7   0.7  ... -13.0   \n",
       "61 -8 -9 -0.083821   -2.2   -3.5   0.0315   -6.9   -1.3  0.7  -0.7  ...  13.0   \n",
       "62 -1  2  0.098291    6.5    4.0   0.0296    4.1    2.9 -2.3   2.2  ...   1.2   \n",
       "63  1 -2 -0.098291   -6.5   -4.0  -0.0296   -4.1   -2.9  2.3  -2.2  ...  -1.2   \n",
       "\n",
       "    FTRD  2P_O  2P_D  3P_O  3P_D  ADJ_T  WAB  SEED  POWER  \n",
       "0    2.6   0.5  -5.2  -6.3   1.1    1.2  4.1     0      0  \n",
       "1   -2.6  -0.5   5.2   6.3  -1.1   -1.2 -4.1     0      0  \n",
       "2   -5.9   3.1   0.1  -0.4   6.4   -0.1  1.8     0      0  \n",
       "3    5.9  -3.1  -0.1   0.4  -6.4    0.1 -1.8     0      0  \n",
       "4    7.6  -6.9  -4.2  -4.4  -2.5   -5.1 -0.3     0      0  \n",
       "..   ...   ...   ...   ...   ...    ...  ...   ...    ...  \n",
       "59  -9.2  -3.3   0.4   6.0  -2.3   -9.6 -2.7     0      0  \n",
       "60   0.0   9.7   2.1   2.1   0.0   -0.8  0.2     0      0  \n",
       "61   0.0  -9.7  -2.1  -2.1   0.0    0.8 -0.2     0      0  \n",
       "62  -9.1   2.8   1.3   4.7   3.6   -4.0 -0.4     0      0  \n",
       "63   9.1  -2.8  -1.3  -4.7  -3.6    4.0  0.4     0      0  \n",
       "\n",
       "[64 rows x 22 columns]"
      ]
     },
     "execution_count": 141,
     "metadata": {},
     "output_type": "execute_result"
    }
   ],
   "source": [
    "df_train"
   ]
  },
  {
   "cell_type": "code",
   "execution_count": 142,
   "metadata": {},
   "outputs": [],
   "source": [
    "current = matchups[-4:]"
   ]
  },
  {
   "cell_type": "code",
   "execution_count": 155,
   "metadata": {},
   "outputs": [
    {
     "name": "stdout",
     "output_type": "stream",
     "text": [
      "Bryant vs. Wright St. \n",
      " Winner:  Wright St. \n",
      "\n",
      "Rutgers vs. Notre Dame \n",
      " Winner:  Rutgers \n",
      "\n",
      "Texas Southern vs. Texas A&M Corpus Chris \n",
      " Winner:  Texas Southern \n",
      "\n",
      "Wyoming vs. Indiana \n",
      " Winner:  Indiana \n",
      "\n"
     ]
    }
   ],
   "source": [
    "for learn in [forest]:\n",
    "    for s in current: \n",
    "        holder = int(learn.predict(diff(s,1))) \n",
    "        matchup = str(list(s[\"TEAM\"])[0]) + \" vs. \" + str(list(s[\"TEAM\"])[1])\n",
    "        winner = s.iloc[::-1].iloc[holder][\"TEAM\"]\n",
    "        print(matchup, \"\\n\", \"Winner: \", winner, \"\\n\")"
   ]
  },
  {
   "cell_type": "code",
   "execution_count": 157,
   "metadata": {},
   "outputs": [
    {
     "name": "stderr",
     "output_type": "stream",
     "text": [
      "C:\\Users\\student\\anaconda3\\lib\\site-packages\\sklearn\\linear_model\\_coordinate_descent.py:530: ConvergenceWarning: Objective did not converge. You might want to increase the number of iterations. Duality gap: 0.007753279800751578, tolerance: 0.0016\n",
      "  model = cd_fast.enet_coordinate_descent(\n"
     ]
    },
    {
     "data": {
      "text/plain": [
       "array([-0.16609845])"
      ]
     },
     "execution_count": 157,
     "metadata": {},
     "output_type": "execute_result"
    }
   ],
   "source": [
    "from sklearn.linear_model import Lasso\n",
    "lasso = Lasso(alpha=0.005)\n",
    "lasso.fit(df_train, df_y)\n",
    "\n",
    "lasso.predict(diff(current[0],1))"
   ]
  },
  {
   "cell_type": "code",
   "execution_count": null,
   "metadata": {},
   "outputs": [],
   "source": []
  }
 ],
 "metadata": {
  "kernelspec": {
   "display_name": "Python 3",
   "language": "python",
   "name": "python3"
  },
  "language_info": {
   "codemirror_mode": {
    "name": "ipython",
    "version": 3
   },
   "file_extension": ".py",
   "mimetype": "text/x-python",
   "name": "python",
   "nbconvert_exporter": "python",
   "pygments_lexer": "ipython3",
   "version": "3.8.3"
  }
 },
 "nbformat": 4,
 "nbformat_minor": 4
}
